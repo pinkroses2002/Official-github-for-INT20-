{
 "cells": [
  {
   "cell_type": "code",
   "execution_count": 15,
   "metadata": {},
   "outputs": [],
   "source": [
    "import os\n",
    "from glob import glob\n",
    "from shutil import move, rmtree\n",
    "from numpy.random import choice"
   ]
  },
  {
   "cell_type": "code",
   "execution_count": 16,
   "metadata": {},
   "outputs": [],
   "source": [
    "SAVE_DIR = './data_for_pytorch/'\n",
    "TEST_PERCENT = 0.3"
   ]
  },
  {
   "cell_type": "code",
   "execution_count": 17,
   "metadata": {},
   "outputs": [],
   "source": [
    "directories = glob(SAVE_DIR + \"*\")"
   ]
  },
  {
   "cell_type": "code",
   "execution_count": 18,
   "metadata": {},
   "outputs": [
    {
     "data": {
      "text/plain": [
       "8"
      ]
     },
     "execution_count": 18,
     "metadata": {},
     "output_type": "execute_result"
    }
   ],
   "source": [
    "len(directories)"
   ]
  },
  {
   "cell_type": "code",
   "execution_count": 19,
   "metadata": {},
   "outputs": [],
   "source": [
    "directories = ['./data_for_pytorch/3',\n",
    " './data_for_pytorch/6',\n",
    " './data_for_pytorch/5',\n",
    " './data_for_pytorch/1',\n",
    " './data_for_pytorch/8',\n",
    " './data_for_pytorch/7',\n",
    " './data_for_pytorch/2',\n",
    " './data_for_pytorch/4']"
   ]
  },
  {
   "cell_type": "code",
   "execution_count": 20,
   "metadata": {},
   "outputs": [
    {
     "name": "stdout",
     "output_type": "stream",
     "text": [
      "./data_for_pytorch/test\n",
      "./data_for_pytorch/test/3\n",
      "./data_for_pytorch/test/6\n",
      "./data_for_pytorch/test/5\n",
      "./data_for_pytorch/test/1\n",
      "./data_for_pytorch/test/8\n",
      "./data_for_pytorch/test/7\n",
      "./data_for_pytorch/test/2\n",
      "./data_for_pytorch/test/4\n"
     ]
    }
   ],
   "source": [
    "if not os.path.exists(os.path.join(SAVE_DIR, 'train')):\n",
    "    os.mkdir(os.path.join(SAVE_DIR, 'train'))\n",
    "if not os.path.exists(os.path.join(SAVE_DIR, 'test')):\n",
    "    print(os.path.join(SAVE_DIR, 'test'))\n",
    "    os.mkdir(os.path.join(SAVE_DIR, 'test')) \n",
    "    for directory in directories:\n",
    "        print(os.path.join(SAVE_DIR, 'test', directory.split('/')[-1]))\n",
    "        os.mkdir(os.path.join(SAVE_DIR, 'test', directory.split('/')[-1]))"
   ]
  },
  {
   "cell_type": "code",
   "execution_count": 21,
   "metadata": {},
   "outputs": [
    {
     "name": "stdout",
     "output_type": "stream",
     "text": [
      "Class: ./data_for_pytorch/3, number of images: 20\n",
      "Class: ./data_for_pytorch/6, number of images: 18\n",
      "Class: ./data_for_pytorch/5, number of images: 17\n",
      "Class: ./data_for_pytorch/1, number of images: 31\n",
      "Class: ./data_for_pytorch/8, number of images: 16\n",
      "Class: ./data_for_pytorch/7, number of images: 18\n",
      "Class: ./data_for_pytorch/2, number of images: 23\n",
      "Class: ./data_for_pytorch/4, number of images: 20\n"
     ]
    }
   ],
   "source": [
    "for directory in directories:\n",
    "    filenames = glob(directory+'/*')\n",
    "    print(f\"Class: {directory}, number of images: {len(filenames)}\")\n",
    "    test_images = choice(filenames, round(TEST_PERCENT * len(filenames)))\n",
    "    for i in test_images:\n",
    "        if not os.path.exists(os.path.join(SAVE_DIR, 'test', directory.split('/')[-1], i.split('/')[-1])):\n",
    "            os.rename(i, os.path.join(SAVE_DIR, 'test', directory.split('/')[-1], i.split('/')[-1]))\n",
    "    move(directory, os.path.join(SAVE_DIR, 'train', directory.split('/')[-1]))"
   ]
  },
  {
   "cell_type": "code",
   "execution_count": null,
   "metadata": {},
   "outputs": [],
   "source": []
  }
 ],
 "metadata": {
  "kernelspec": {
   "display_name": "Python 3",
   "language": "python",
   "name": "python3"
  },
  "language_info": {
   "codemirror_mode": {
    "name": "ipython",
    "version": 3
   },
   "file_extension": ".py",
   "mimetype": "text/x-python",
   "name": "python",
   "nbconvert_exporter": "python",
   "pygments_lexer": "ipython3",
   "version": "3.6.7"
  }
 },
 "nbformat": 4,
 "nbformat_minor": 2
}
